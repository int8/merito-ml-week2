{
 "cells": [
  {
   "cell_type": "code",
   "execution_count": 10,
   "id": "9d27dc84-7e0e-4035-ba51-65bb6f3c5850",
   "metadata": {},
   "outputs": [],
   "source": [
    "import torch \n",
    "from torch import nn\n",
    "import numpy as np\n",
    "class ReviewClassifier(nn.Module):\n",
    "    def __init__(self):\n",
    "        super().__init__()        \n",
    "        self.mlp = nn.Sequential(\n",
    "            nn.Linear(384, 150),\n",
    "            nn.ReLU(),\n",
    "            nn.Linear(150,15),\n",
    "            nn.ReLU(),\n",
    "            nn.Linear(15, 1),\n",
    "            nn.Sigmoid()\n",
    "        ) \n",
    "        \n",
    "    \n",
    "    def forward(self, x):        \n",
    "        return self.mlp(x)"
   ]
  },
  {
   "cell_type": "code",
   "execution_count": 11,
   "id": "d1086de5-23f3-47f6-9f0d-bb12eb0263e0",
   "metadata": {},
   "outputs": [],
   "source": [
    "state_dict = torch.load(\"review_classifier.bin\")"
   ]
  },
  {
   "cell_type": "code",
   "execution_count": 12,
   "id": "6fa3b987-f47b-4fab-9b4a-e3cb2babbf22",
   "metadata": {},
   "outputs": [],
   "source": [
    "import pandas as pd \n",
    "test_df = pd.read_feather(\"test_df.bin\")"
   ]
  },
  {
   "cell_type": "code",
   "execution_count": 13,
   "id": "3f298fe1-e345-41e6-8933-5915f6b50b70",
   "metadata": {},
   "outputs": [
    {
     "data": {
      "text/plain": [
       "<All keys matched successfully>"
      ]
     },
     "execution_count": 13,
     "metadata": {},
     "output_type": "execute_result"
    }
   ],
   "source": [
    "model = ReviewClassifier()\n",
    "model.load_state_dict(state_dict)"
   ]
  },
  {
   "cell_type": "code",
   "execution_count": 20,
   "id": "c2e8e6b6-a762-4e43-95fd-834f252d2faa",
   "metadata": {},
   "outputs": [
    {
     "data": {
      "text/plain": [
       "tensor([0.9626], grad_fn=<SigmoidBackward0>)"
      ]
     },
     "execution_count": 20,
     "metadata": {},
     "output_type": "execute_result"
    }
   ],
   "source": [
    "N = 28\n",
    "test_example = torch.Tensor(np.array(test_df.embeddings[N]))\n",
    "model.forward(test_example)\n"
   ]
  },
  {
   "cell_type": "code",
   "execution_count": 21,
   "id": "889396ec-c5da-46b4-b593-90d3914a3de5",
   "metadata": {},
   "outputs": [
    {
     "data": {
      "text/plain": [
       "'There are very few albums where every song is one that I want to listen to over and over. Clay\\'s voice is beautiful and he should have many hits from this CD. \"Touch\" is amazing.'"
      ]
     },
     "execution_count": 21,
     "metadata": {},
     "output_type": "execute_result"
    }
   ],
   "source": [
    "test_df.content[N]"
   ]
  },
  {
   "cell_type": "code",
   "execution_count": 9,
   "id": "444a96e2-3f5a-4985-8d02-c0286a7eb162",
   "metadata": {},
   "outputs": [
    {
     "data": {
      "text/plain": [
       "1"
      ]
     },
     "execution_count": 9,
     "metadata": {},
     "output_type": "execute_result"
    }
   ],
   "source": [
    "test_df.label[N]"
   ]
  },
  {
   "cell_type": "code",
   "execution_count": 10,
   "id": "37419483-3b14-4739-8e9a-85a341bd92d9",
   "metadata": {},
   "outputs": [],
   "source": [
    "from torchmetrics import Accuracy \n",
    "\n",
    "from tqdm import tqdm \n",
    "model.eval()\n",
    "metric = Accuracy(task=\"binary\")\n",
    "for _, test_row in tqdm(test_df.iterrows(), desc='evaluating'):\n",
    "    pred = model.forward(\n",
    "        torch.Tensor(np.array(test_row.embeddings))\n",
    "    )\n",
    "    metric.update(pred, torch.Tensor([test_row.label]))\n",
    "metric_value = metric.compute()"
   ]
  },
  {
   "cell_type": "code",
   "execution_count": 13,
   "id": "a8481a28-94be-4109-869b-493583ca2efe",
   "metadata": {},
   "outputs": [],
   "source": []
  },
  {
   "cell_type": "code",
   "execution_count": 17,
   "id": "5121d10e-cec2-4c8f-a86b-01f6f4e4dd6b",
   "metadata": {},
   "outputs": [
    {
     "name": "stderr",
     "output_type": "stream",
     "text": [
      "evaluating: 6000it [00:02, 2529.11it/s]\n"
     ]
    }
   ],
   "source": [
    "# from tqdm import tqdm \n",
    "# model.eval()\n",
    "# metric = Accuracy(task=\"binary\")\n",
    "# for _, test_row in tqdm(test_df.iterrows(), desc='evaluating'):\n",
    "#     pred = model.forward(\n",
    "#         torch.Tensor(np.array(test_row.embeddings))\n",
    "#     )\n",
    "#     metric.update(pred, torch.Tensor([test_row.label]))\n",
    "# metric_value = metric.compute()"
   ]
  },
  {
   "cell_type": "code",
   "execution_count": 18,
   "id": "89c8337f-e155-4e08-b6d5-875f3c8d31f7",
   "metadata": {},
   "outputs": [
    {
     "data": {
      "text/plain": [
       "tensor(0.9515)"
      ]
     },
     "execution_count": 18,
     "metadata": {},
     "output_type": "execute_result"
    }
   ],
   "source": [
    "metric_value"
   ]
  },
  {
   "cell_type": "code",
   "execution_count": null,
   "id": "b395fa92-788c-4932-bb82-748a1feabcc7",
   "metadata": {},
   "outputs": [],
   "source": []
  }
 ],
 "metadata": {
  "kernelspec": {
   "display_name": "Python 3 (ipykernel)",
   "language": "python",
   "name": "python3"
  },
  "language_info": {
   "codemirror_mode": {
    "name": "ipython",
    "version": 3
   },
   "file_extension": ".py",
   "mimetype": "text/x-python",
   "name": "python",
   "nbconvert_exporter": "python",
   "pygments_lexer": "ipython3",
   "version": "3.8.10"
  }
 },
 "nbformat": 4,
 "nbformat_minor": 5
}

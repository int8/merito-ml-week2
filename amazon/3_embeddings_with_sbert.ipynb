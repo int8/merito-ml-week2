{
 "cells": [
  {
   "cell_type": "code",
   "execution_count": 4,
   "id": "0ef26eef-ea7c-4869-9fa3-f594dab70ab4",
   "metadata": {},
   "outputs": [],
   "source": [
    "from typing import List \n",
    "import sentence_transformers\n",
    "from sentence_transformers import SentenceTransformer\n",
    "TWOJ_KOD = None \n",
    "sentence_transformer = TWOJ_KOD\n"
   ]
  },
  {
   "cell_type": "code",
   "execution_count": 5,
   "id": "2e6cce78-9f27-4c10-ac9b-81f3964c8889",
   "metadata": {},
   "outputs": [],
   "source": [
    "# TODO: napisz funkcje które za argumenty bierze model i liste tekstow i zwraca ich embeddingi \n",
    "def get_embeddings(TWOJ_KOD):\n",
    "    return TWOJ_KOD"
   ]
  },
  {
   "cell_type": "code",
   "execution_count": 6,
   "id": "53d4d048-bc4a-4d04-af1a-64d278ef5b0f",
   "metadata": {},
   "outputs": [],
   "source": [
    "#TODO: wczytaj 100 pierwszych wierszy naszego dataframe'u\n",
    "import pandas as pd \n",
    "df = TWOJ_KOD \n",
    "assert len(df) == 100"
   ]
  },
  {
   "cell_type": "code",
   "execution_count": 7,
   "id": "3c9bbd05-50e5-4753-ac07-0824658dd5d0",
   "metadata": {},
   "outputs": [],
   "source": [
    "# TODO: zapisz df.content do listy \n",
    "texts = TWOJ_KOD"
   ]
  },
  {
   "cell_type": "code",
   "execution_count": 8,
   "id": "768d2017-99db-4646-a51a-55cc3d3ee132",
   "metadata": {},
   "outputs": [],
   "source": [
    "# polic embeddingi \n",
    "embeddings = get_embeddings(TWOJ_KOD)"
   ]
  },
  {
   "cell_type": "code",
   "execution_count": 9,
   "id": "8253dd21-7d04-4c0e-80be-c4858a1c1759",
   "metadata": {},
   "outputs": [
    {
     "data": {
      "text/plain": [
       "(10000, 384)"
      ]
     },
     "execution_count": 9,
     "metadata": {},
     "output_type": "execute_result"
    }
   ],
   "source": [
    "# TODO: Upewnij się, że otrzymano 100 embeddingów \n",
    "TWOJ_KOD "
   ]
  },
  {
   "cell_type": "code",
   "execution_count": 10,
   "id": "7ebc7888-be3f-4590-854c-7177a47a3afc",
   "metadata": {},
   "outputs": [],
   "source": [
    "import numpy as np \n",
    "# TODO: jaką długość ma nasz wektor oraz ile zawiera elementów"
   ]
  },
  {
   "cell_type": "code",
   "execution_count": 11,
   "id": "2f6a5d74-8fc7-453b-b59d-a36df1e15b95",
   "metadata": {},
   "outputs": [],
   "source": [
    "# TODO: wczytaj cały dataframe "
   ]
  },
  {
   "cell_type": "code",
   "execution_count": 12,
   "id": "c4ddc83b-0771-4b97-a8f5-ba1c0292eded",
   "metadata": {},
   "outputs": [],
   "source": [
    "df = TWOJ_KOD "
   ]
  },
  {
   "cell_type": "code",
   "execution_count": 13,
   "id": "23edac2c-1ea1-4bc7-987a-0f01e09c79ea",
   "metadata": {},
   "outputs": [],
   "source": [
    "# Wczytaj wszystkie teksty do texts \n",
    "texts = TWOJ_KOD\n",
    "assert len(texts) == len(df)"
   ]
  },
  {
   "cell_type": "code",
   "execution_count": 14,
   "id": "209b73c8-b414-46af-bbeb-0007cf8fb347",
   "metadata": {},
   "outputs": [],
   "source": [
    "# TODO: utwórz embeddingi dla każdego tekstu w naszym korpusie\n",
    "embeddings = get_embeddings(TWOJ_KOD)\n",
    "# przypiszmy embeddingi do kolumny embeddings \n",
    "df = df.assign(embeddings = [e for e in embeddings])"
   ]
  },
  {
   "cell_type": "code",
   "execution_count": 15,
   "id": "b969529c-e955-49c5-adb8-63f1bcc88996",
   "metadata": {},
   "outputs": [],
   "source": [
    "# TODO: Zapisz df jako feather format amazon_with_embeddings.bin \n",
    "df.to_feather(\"amazon_with_embeddings.bin\")"
   ]
  },
  {
   "cell_type": "code",
   "execution_count": null,
   "id": "98921af1-fc26-43c6-a6a2-eb618bc85e1f",
   "metadata": {},
   "outputs": [],
   "source": []
  },
  {
   "cell_type": "code",
   "execution_count": null,
   "id": "4158c6cc-2aa2-432e-b638-abd28c596b47",
   "metadata": {},
   "outputs": [],
   "source": []
  }
 ],
 "metadata": {
  "kernelspec": {
   "display_name": "Python 3 (ipykernel)",
   "language": "python",
   "name": "python3"
  },
  "language_info": {
   "codemirror_mode": {
    "name": "ipython",
    "version": 3
   },
   "file_extension": ".py",
   "mimetype": "text/x-python",
   "name": "python",
   "nbconvert_exporter": "python",
   "pygments_lexer": "ipython3",
   "version": "3.8.10"
  }
 },
 "nbformat": 4,
 "nbformat_minor": 5
}

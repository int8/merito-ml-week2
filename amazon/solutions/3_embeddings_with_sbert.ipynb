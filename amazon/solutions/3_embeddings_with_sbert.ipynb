{
 "cells": [
  {
   "cell_type": "code",
   "execution_count": 7,
   "id": "0ef26eef-ea7c-4869-9fa3-f594dab70ab4",
   "metadata": {},
   "outputs": [],
   "source": [
    "from typing import List \n",
    "import sentence_transformers\n",
    "from sentence_transformers import SentenceTransformer\n",
    "TWOJ_KOD = None \n",
    "sentence_transformer = SentenceTransformer(\"all-MiniLM-L6-v2\")\n"
   ]
  },
  {
   "cell_type": "code",
   "execution_count": 8,
   "id": "2e6cce78-9f27-4c10-ac9b-81f3964c8889",
   "metadata": {},
   "outputs": [],
   "source": [
    "# TODO: napisz funkcje które za argumenty bierze model i liste tekstow i zwraca ich embeddingi \n",
    "def get_embeddings(model, texts: List[str]):\n",
    "    return model.encode(texts)"
   ]
  },
  {
   "cell_type": "code",
   "execution_count": 10,
   "id": "53d4d048-bc4a-4d04-af1a-64d278ef5b0f",
   "metadata": {},
   "outputs": [],
   "source": [
    "#TODO: wczytaj 100 pierwszych wierszy naszego dataframe'u\n",
    "import pandas as pd \n",
    "df = pd.read_csv(\"../../amazon.csv\", nrows=100)\n",
    "assert len(df) == 100"
   ]
  },
  {
   "cell_type": "code",
   "execution_count": 11,
   "id": "3c9bbd05-50e5-4753-ac07-0824658dd5d0",
   "metadata": {},
   "outputs": [],
   "source": [
    "# TODO: zapisz df.content do listy \n",
    "texts = df.content.tolist()"
   ]
  },
  {
   "cell_type": "code",
   "execution_count": 12,
   "id": "768d2017-99db-4646-a51a-55cc3d3ee132",
   "metadata": {},
   "outputs": [],
   "source": [
    "# policz embeddingi \n",
    "embeddings = get_embeddings(sentence_transformer, texts)"
   ]
  },
  {
   "cell_type": "code",
   "execution_count": 13,
   "id": "8253dd21-7d04-4c0e-80be-c4858a1c1759",
   "metadata": {},
   "outputs": [
    {
     "data": {
      "text/plain": [
       "(100, 384)"
      ]
     },
     "execution_count": 13,
     "metadata": {},
     "output_type": "execute_result"
    }
   ],
   "source": [
    "# TODO: Upewnij się, że otrzymano 100 embeddingów \n",
    "embeddings.shape"
   ]
  },
  {
   "cell_type": "code",
   "execution_count": 14,
   "id": "7ebc7888-be3f-4590-854c-7177a47a3afc",
   "metadata": {},
   "outputs": [
    {
     "data": {
      "text/plain": [
       "384"
      ]
     },
     "execution_count": 14,
     "metadata": {},
     "output_type": "execute_result"
    }
   ],
   "source": [
    "import numpy as np \n",
    "# TODO: jaką długość ma nasz wektor oraz ile zawiera elementów\n",
    "len(embeddings[0])"
   ]
  },
  {
   "cell_type": "code",
   "execution_count": 15,
   "id": "d3a30188-6407-4628-a81c-8499e567df71",
   "metadata": {},
   "outputs": [
    {
     "data": {
      "text/plain": [
       "0.99999994"
      ]
     },
     "execution_count": 15,
     "metadata": {},
     "output_type": "execute_result"
    }
   ],
   "source": [
    "np.linalg.norm(embeddings[0])"
   ]
  },
  {
   "cell_type": "code",
   "execution_count": 16,
   "id": "2f6a5d74-8fc7-453b-b59d-a36df1e15b95",
   "metadata": {},
   "outputs": [],
   "source": [
    "# TODO: wczytaj cały dataframe \n",
    "df = pd.read_csv(\"../../amazon.csv\") "
   ]
  },
  {
   "cell_type": "code",
   "execution_count": null,
   "id": "c4ddc83b-0771-4b97-a8f5-ba1c0292eded",
   "metadata": {},
   "outputs": [],
   "source": []
  },
  {
   "cell_type": "code",
   "execution_count": 17,
   "id": "23edac2c-1ea1-4bc7-987a-0f01e09c79ea",
   "metadata": {},
   "outputs": [],
   "source": [
    "# Wczytaj wszystkie teksty do texts \n",
    "texts = df.content.tolist()\n",
    "assert len(texts) == len(df)"
   ]
  },
  {
   "cell_type": "code",
   "execution_count": 18,
   "id": "209b73c8-b414-46af-bbeb-0007cf8fb347",
   "metadata": {},
   "outputs": [],
   "source": [
    "# TODO: utwórz embeddingi dla każdego tekstu w naszym korpusie\n",
    "embeddings = get_embeddings(sentence_transformer, texts)\n"
   ]
  },
  {
   "cell_type": "code",
   "execution_count": 19,
   "id": "e81d1b4f-d1fb-4a9b-89e9-f16e8b1bc9d9",
   "metadata": {},
   "outputs": [],
   "source": [
    "# przypiszmy embeddingi do kolumny embeddings \n",
    "df = df.assign(embeddings = [e for e in embeddings])"
   ]
  },
  {
   "cell_type": "code",
   "execution_count": 20,
   "id": "b969529c-e955-49c5-adb8-63f1bcc88996",
   "metadata": {},
   "outputs": [],
   "source": [
    "# TODO: Zapisz df jako feather format amazon_with_embeddings.bin \n",
    "df.to_feather(\"amazon_with_embeddings.bin\")"
   ]
  },
  {
   "cell_type": "code",
   "execution_count": null,
   "id": "01e163fb-4cba-4e1e-b6bf-00da155c78c0",
   "metadata": {},
   "outputs": [],
   "source": []
  }
 ],
 "metadata": {
  "kernelspec": {
   "display_name": "Python 3 (ipykernel)",
   "language": "python",
   "name": "python3"
  },
  "language_info": {
   "codemirror_mode": {
    "name": "ipython",
    "version": 3
   },
   "file_extension": ".py",
   "mimetype": "text/x-python",
   "name": "python",
   "nbconvert_exporter": "python",
   "pygments_lexer": "ipython3",
   "version": "3.8.10"
  }
 },
 "nbformat": 4,
 "nbformat_minor": 5
}

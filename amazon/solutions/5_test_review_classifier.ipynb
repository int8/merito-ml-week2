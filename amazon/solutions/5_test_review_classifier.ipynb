{
 "cells": [
  {
   "cell_type": "code",
   "execution_count": 1,
   "id": "9d27dc84-7e0e-4035-ba51-65bb6f3c5850",
   "metadata": {},
   "outputs": [],
   "source": [
    "import torch \n",
    "from torch import nn\n",
    "import numpy as np\n",
    "class ReviewClassifier(nn.Module):\n",
    "    def __init__(self):\n",
    "        super().__init__()        \n",
    "        self.mlp = nn.Sequential(\n",
    "            nn.Linear(384, 150),\n",
    "            nn.ReLU(),\n",
    "            nn.Linear(150,15),\n",
    "            nn.ReLU(),\n",
    "            nn.Linear(15, 1),\n",
    "            nn.Sigmoid()\n",
    "        ) \n",
    "        \n",
    "    \n",
    "    def forward(self, x):        \n",
    "        return self.mlp(x)"
   ]
  },
  {
   "cell_type": "code",
   "execution_count": 2,
   "id": "d1086de5-23f3-47f6-9f0d-bb12eb0263e0",
   "metadata": {},
   "outputs": [],
   "source": [
    "state_dict = torch.load(\"review_classifier.bin\")"
   ]
  },
  {
   "cell_type": "code",
   "execution_count": 3,
   "id": "6fa3b987-f47b-4fab-9b4a-e3cb2babbf22",
   "metadata": {},
   "outputs": [],
   "source": [
    "import pandas as pd \n",
    "test_df = pd.read_feather(\"test_df.bin\")"
   ]
  },
  {
   "cell_type": "code",
   "execution_count": 4,
   "id": "3f298fe1-e345-41e6-8933-5915f6b50b70",
   "metadata": {},
   "outputs": [
    {
     "data": {
      "text/plain": [
       "<All keys matched successfully>"
      ]
     },
     "execution_count": 4,
     "metadata": {},
     "output_type": "execute_result"
    }
   ],
   "source": [
    "model = ReviewClassifier()\n",
    "model.load_state_dict(state_dict)"
   ]
  },
  {
   "cell_type": "code",
   "execution_count": 14,
   "id": "c2e8e6b6-a762-4e43-95fd-834f252d2faa",
   "metadata": {},
   "outputs": [
    {
     "name": "stdout",
     "output_type": "stream",
     "text": [
      "I am using this amplifier to power speakers in a training room. It gives good sound and is plenty loud enough for my needs.\n",
      "Prawdopodobieństwo pozytywnego sentymentu:  0.925\n"
     ]
    }
   ],
   "source": [
    "N = 48\n",
    "test_example = torch.Tensor(np.array(test_df.embeddings[N]))\n",
    "print(test_df.content[N])\n",
    "print(\"Prawdopodobieństwo pozytywnego sentymentu: \",  round(model.forward(test_example).detach().numpy()[0], 3))\n"
   ]
  },
  {
   "cell_type": "code",
   "execution_count": 15,
   "id": "37419483-3b14-4739-8e9a-85a341bd92d9",
   "metadata": {},
   "outputs": [
    {
     "name": "stderr",
     "output_type": "stream",
     "text": [
      "evaluating: 6000it [00:02, 2801.38it/s]\n"
     ]
    }
   ],
   "source": [
    "from torchmetrics import Accuracy \n",
    "\n",
    "from tqdm import tqdm \n",
    "model.eval()\n",
    "metric = Accuracy(task=\"binary\")\n",
    "for _, test_row in tqdm(test_df.iterrows(), desc='evaluating'):\n",
    "    pred = model.forward(\n",
    "        torch.Tensor(np.array(test_row.embeddings))\n",
    "    )\n",
    "    metric.update(pred, torch.Tensor([test_row.label]))\n",
    "metric_value = metric.compute()"
   ]
  },
  {
   "cell_type": "code",
   "execution_count": 16,
   "id": "89c8337f-e155-4e08-b6d5-875f3c8d31f7",
   "metadata": {},
   "outputs": [
    {
     "data": {
      "text/plain": [
       "tensor(0.8333)"
      ]
     },
     "execution_count": 16,
     "metadata": {},
     "output_type": "execute_result"
    }
   ],
   "source": [
    "# ACCURACY ON TEST SET \n",
    "metric_value"
   ]
  }
 ],
 "metadata": {
  "kernelspec": {
   "display_name": "Python 3 (ipykernel)",
   "language": "python",
   "name": "python3"
  },
  "language_info": {
   "codemirror_mode": {
    "name": "ipython",
    "version": 3
   },
   "file_extension": ".py",
   "mimetype": "text/x-python",
   "name": "python",
   "nbconvert_exporter": "python",
   "pygments_lexer": "ipython3",
   "version": "3.8.10"
  }
 },
 "nbformat": 4,
 "nbformat_minor": 5
}
